{
 "cells": [
  {
   "cell_type": "markdown",
   "id": "cf223805",
   "metadata": {},
   "source": [
    "# Erorrs and Approximation\n",
    "ค่าคลาดเคลื่อนและค่าประมาณ\n",
    "***"
   ]
  },
  {
   "cell_type": "markdown",
   "id": "243079fe",
   "metadata": {},
   "source": [
    "## Problem:\n",
    "จากตารางที่กำหนดให้ \n",
    "\n",
    "| ค่าจริง  | ค่าประมาณ   |\n",
    "|--------| -----------|\n",
    "| 10000  |  9999      |\n",
    "| $\\pi$  |  $\\dfrac{22}{7}$ |\n",
    "| $\\mathrm{e}$  |  2.718 |\n",
    "| $\\sqrt{2}$  |  1.414 |\n",
    "\n",
    "จงหา\n",
    "- ค่าคลาดเคลื่อน ($E$) \n",
    "- ค่าคลาดเคลื่อนสัมบูรณ์ ($E_{abs}$) \n",
    "- ค่าคลาดเคลื่อนสัมพัทธ์ ($E_{rel}$) และ\n",
    "- ร้อยละของค่าค่าคลาดเคลื่อนสัมพัทธ์ ($\\varepsilon_{t}$)\n",
    "\n"
   ]
  },
  {
   "cell_type": "code",
   "execution_count": 17,
   "id": "59b25c35",
   "metadata": {},
   "outputs": [
    {
     "name": "stdout",
     "output_type": "stream",
     "text": [
      "Exact Value is 1.4142135623730951 and Approximate Value is 1.414\n",
      "Error is 0.00021356237309522186\n",
      "Absolute Error is 0.00021356237309522186\n",
      "Relative Error is 0.00015101140222192286\n",
      "Percentage of Relative Error is 0.015101140222192286 %\n"
     ]
    }
   ],
   "source": [
    "## Solution  . . . \n",
    "\n",
    "import math\n",
    "\n",
    "exact_val = math.sqrt(2)\n",
    "approx_val = 1.414\n",
    "\n",
    "# Error\n",
    "error = exact_val - approx_val\n",
    "\n",
    "# Absolute Error\n",
    "error_abs = abs(error)\n",
    "\n",
    "# Relative Error\n",
    "error_rel = error_abs / exact_val\n",
    "\n",
    "# Percentage of Relative Error\n",
    "error_rel_percentage = error_rel * 100\n",
    "\n",
    "\n",
    "\n",
    "print('Exact Value is', exact_val, 'and Approximate Value is', approx_val)\n",
    "print('Error is', error)\n",
    "print('Absolute Error is', error_abs)\n",
    "print('Relative Error is', error_rel)\n",
    "print('Percentage of Relative Error is', error_rel_percentage, '%')\n",
    "\n"
   ]
  },
  {
   "cell_type": "markdown",
   "id": "e433bf62",
   "metadata": {},
   "source": [
    "***"
   ]
  },
  {
   "cell_type": "markdown",
   "id": "89129d6f",
   "metadata": {},
   "source": [
    "## Problem:\n",
    "จงประมาณค่า $\\cos\\left( \\dfrac{\\pi}{3} \\right)$ โดยใช้อนุกรมแมคคลอรีน (Maclaurin series expansion)\n",
    "$$ \\cos(x) = 1 - \\frac{x^2}{2!} + \\frac{x^4}{4!} - \\frac{x^6}{6!} + \\ldots $$"
   ]
  },
  {
   "cell_type": "code",
   "execution_count": 2,
   "id": "50cced46",
   "metadata": {},
   "outputs": [],
   "source": [
    "## Solution   . . . \n",
    "\n",
    "\n"
   ]
  },
  {
   "cell_type": "markdown",
   "id": "6f67181e",
   "metadata": {},
   "source": [
    "***"
   ]
  },
  {
   "cell_type": "markdown",
   "id": "8e53ef34",
   "metadata": {},
   "source": [
    "## Problem:\n",
    "จงประมาณค่า $\\sin\\left( \\dfrac{\\pi}{2} \\right)$ โดยใช้อนุกรมแมคคลอรีน (Maclaurin series expansion)\n",
    "$$ \\sin(x) = x - \\frac{x^3}{3!} + \\frac{x^5}{5!} - \\frac{x^7}{7!} + \\ldots $$"
   ]
  },
  {
   "cell_type": "code",
   "execution_count": 1,
   "id": "fe87027d",
   "metadata": {},
   "outputs": [],
   "source": [
    "## Solution   . . . \n",
    "\n",
    "\n"
   ]
  },
  {
   "cell_type": "markdown",
   "id": "9ae86521",
   "metadata": {},
   "source": [
    "***"
   ]
  }
 ],
 "metadata": {
  "kernelspec": {
   "display_name": "Python 3 (ipykernel)",
   "language": "python",
   "name": "python3"
  },
  "language_info": {
   "codemirror_mode": {
    "name": "ipython",
    "version": 3
   },
   "file_extension": ".py",
   "mimetype": "text/x-python",
   "name": "python",
   "nbconvert_exporter": "python",
   "pygments_lexer": "ipython3",
   "version": "3.9.9"
  }
 },
 "nbformat": 4,
 "nbformat_minor": 5
}
