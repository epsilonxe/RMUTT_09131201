{
 "cells": [
  {
   "cell_type": "markdown",
   "id": "f729d664",
   "metadata": {},
   "source": [
    "# Interpolation"
   ]
  },
  {
   "cell_type": "markdown",
   "id": "2b01bbd1",
   "metadata": {},
   "source": [
    "## Problem 1\n",
    "\n",
    "Consider the following dataset:\n",
    "\n",
    "|   |   |   |   |   |\n",
    "|---|---|---|---|---|\n",
    "| x | 10| 20| 30| 40|\n",
    "| y | 6.33 | 7.45 | 9.02 | 12.55\n",
    "|   |   |   |   |   |\n",
    "\n",
    "### 1.1 Write Python funtion to find the interpolation polynomial"
   ]
  },
  {
   "cell_type": "code",
   "execution_count": 9,
   "id": "6be096e8",
   "metadata": {},
   "outputs": [],
   "source": [
    "import numpy as np\n",
    "import matplotlib.pyplot as plt\n",
    "\n",
    "def lagrange(x, data_x):\n",
    "    n = len(data_x)\n",
    "    L = np.empty(n)\n",
    "    for i in range(n):\n",
    "        mult = 1\n",
    "        for j in range(n):\n",
    "            if j != i:\n",
    "                mult *= (x - data_x[j])/(data_x[i] - data_x[j])\n",
    "        L[i] = mult\n",
    "    return L\n",
    "\n",
    "def interpolate(x, data_x, data_y):\n",
    "    L = lagrange(x, data_x)\n",
    "    f = data_y\n",
    "    return np.sum(L*f)"
   ]
  },
  {
   "cell_type": "markdown",
   "id": "26ed7827",
   "metadata": {},
   "source": [
    "### 1.2 Plot the interpolation polynomial for $x \\in [10,40]$"
   ]
  },
  {
   "cell_type": "code",
   "execution_count": 10,
   "id": "c52bd172",
   "metadata": {},
   "outputs": [],
   "source": [
    "data_x = np.array([10, 20, 30, 40])\n",
    "data_y = np.array([6.33, 7.45, 9.02, 12.55])"
   ]
  },
  {
   "cell_type": "code",
   "execution_count": 19,
   "id": "6d6cf89c",
   "metadata": {},
   "outputs": [
    {
     "data": {
      "image/png": "[encoded data removed]",
      "text/plain": [
       "<Figure size 640x480 with 1 Axes>"
      ]
     },
     "metadata": {},
     "output_type": "display_data"
    }
   ],
   "source": [
    "sample = 100\n",
    "inter_x = np.linspace(10, 40, sample)\n",
    "inter_y = np.empty(sample)\n",
    "for i in range(sample):\n",
    "    inter_y[i] = interpolate(inter_x[i], data_x, data_y)\n",
    "    \n",
    "fig, ax = plt.subplots()\n",
    "ax.scatter(data_x, data_y, color='blue', label='dataset')\n",
    "ax.plot(inter_x, inter_y, color='green', label='interpolation polynomial')\n",
    "ax.set_xlabel('x')\n",
    "ax.set_ylabel('y')\n",
    "ax.legend()\n",
    "ax.grid(True);"
   ]
  },
  {
   "cell_type": "markdown",
   "id": "1c9afb70",
   "metadata": {},
   "source": [
    "### 1.3 Using the interpolation polynomial to find $y$ when $x = 28$"
   ]
  },
  {
   "cell_type": "code",
   "execution_count": 17,
   "id": "1aa6fa46",
   "metadata": {},
   "outputs": [
    {
     "name": "stdout",
     "output_type": "stream",
     "text": [
      "solution: x = 28 --> y ~ 8.597520000000001\n"
     ]
    }
   ],
   "source": [
    "x = 28\n",
    "y = interpolate(x, data_x, data_y)\n",
    "print(f'solution: x = {x} --> y ~ {y}')"
   ]
  },
  {
   "cell_type": "markdown",
   "id": "4837b696",
   "metadata": {},
   "source": [
    "-----------"
   ]
  },
  {
   "cell_type": "markdown",
   "id": "9f34247e",
   "metadata": {},
   "source": [
    "## Problem 2\n",
    "\n",
    "The following dataset is the output of a factory between 2010 - 2022\n",
    "\n",
    "|   |   |   |   |   |\n",
    "|---|---|---|---|---|\n",
    "| Year | 2010| 2014| 2018| 2022|\n",
    "| Output in MegaTones | 25 | 60 | 80 | 170\n",
    "|   |   |   |   |   |\n"
   ]
  },
  {
   "cell_type": "markdown",
   "id": "03aa9847",
   "metadata": {},
   "source": [
    "\n",
    "### 2.1 Find and plot the interpolation polynomail of this dataset"
   ]
  },
  {
   "cell_type": "code",
   "execution_count": null,
   "id": "37a6ed5c",
   "metadata": {},
   "outputs": [],
   "source": [
    "\n",
    "\n"
   ]
  },
  {
   "cell_type": "markdown",
   "id": "a63bdf64",
   "metadata": {},
   "source": [
    "### 2.2 Using interpolation estimate the output of a factory in 2020"
   ]
  },
  {
   "cell_type": "code",
   "execution_count": null,
   "id": "2583b53b",
   "metadata": {},
   "outputs": [],
   "source": [
    "\n",
    "\n"
   ]
  },
  {
   "cell_type": "markdown",
   "id": "d3d4fdb4",
   "metadata": {},
   "source": [
    "-----------"
   ]
  },
  {
   "cell_type": "markdown",
   "id": "2cf7694f",
   "metadata": {},
   "source": [
    "## Problem 3\n",
    "\n",
    "The following data gives the melting point of an alloy of lead and zinc where $T$ is the temperature in degree c and $P$ is the percentage of lead in the alloy\n",
    "\n",
    "|   |   |   |   |   |   |   |\n",
    "|---|---|---|---|---|---|---|\n",
    "| $P$ | 40| 50| 60| 70| 80 | 90 |\n",
    "| $T$ | 180 | 204 | 226 | 250 | 276 | 304 |\n",
    "|   |   |   |   |   |   |  |  |\n"
   ]
  },
  {
   "cell_type": "markdown",
   "id": "25375092",
   "metadata": {},
   "source": [
    "\n",
    "### 3.1 Find and plot the interpolation polynomail of this dataset"
   ]
  },
  {
   "cell_type": "code",
   "execution_count": null,
   "id": "8bf6b1bb",
   "metadata": {},
   "outputs": [],
   "source": [
    "\n",
    "\n"
   ]
  },
  {
   "cell_type": "markdown",
   "id": "7092abbe",
   "metadata": {},
   "source": [
    "### 3.2 Find the melting point of the alloy containing 84 percent lead."
   ]
  },
  {
   "cell_type": "code",
   "execution_count": null,
   "id": "a00f4370",
   "metadata": {},
   "outputs": [],
   "source": [
    "\n",
    "\n"
   ]
  },
  {
   "cell_type": "markdown",
   "id": "4fc23e45",
   "metadata": {},
   "source": [
    "-----------------"
   ]
  }
 ],
 "metadata": {
  "kernelspec": {
   "display_name": "Python 3 (ipykernel)",
   "language": "python",
   "name": "python3"
  },
  "language_info": {
   "codemirror_mode": {
    "name": "ipython",
    "version": 3
   },
   "file_extension": ".py",
   "mimetype": "text/x-python",
   "name": "python",
   "nbconvert_exporter": "python",
   "pygments_lexer": "ipython3",
   "version": "3.10.6"
  }
 },
 "nbformat": 4,
 "nbformat_minor": 5
}
