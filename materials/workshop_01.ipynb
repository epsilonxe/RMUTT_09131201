{
 "cells": [
  {
   "cell_type": "markdown",
   "id": "cf223805",
   "metadata": {},
   "source": [
    "# Erorrs and Approximation\n",
    "ค่าคลาดเคลื่อนและค่าประมาณ\n",
    "***"
   ]
  },
  {
   "cell_type": "markdown",
   "id": "243079fe",
   "metadata": {},
   "source": [
    "## Problem:\n",
    "จากตารางที่กำหนดให้ \n",
    "\n",
    "| ค่าจริง  | ค่าประมาณ   |\n",
    "|--------| -----------|\n",
    "| 10000  |  9999      |\n",
    "| $\\pi$  |  $\\dfrac{22}{7}$ |\n",
    "| $\\mathrm{e}$  |  2.718 |\n",
    "| $\\sqrt{2}$  |  1.414 |\n",
    "\n",
    "จงหา\n",
    "- ค่าคลาดเคลื่อน ($E$) \n",
    "- ค่าคลาดเคลื่อนสัมบูรณ์ ($E_{abs}$) \n",
    "- ค่าคลาดเคลื่อนสัมพัทธ์ ($E_{rel}$) และ\n",
    "- ร้อยละของค่าค่าคลาดเคลื่อนสัมพัทธ์ ($\\varepsilon_{t}$)\n",
    "\n"
   ]
  },
  {
   "cell_type": "code",
   "execution_count": 1,
   "id": "59b25c35",
   "metadata": {},
   "outputs": [],
   "source": [
    "## Solution  . . . \n",
    "\n",
    "\n"
   ]
  },
  {
   "cell_type": "markdown",
   "id": "e433bf62",
   "metadata": {},
   "source": [
    "***"
   ]
  },
  {
   "cell_type": "markdown",
   "id": "89129d6f",
   "metadata": {},
   "source": [
    "## Problem:\n",
    "จงประมาณค่า $\\cos\\left( \\dfrac{\\pi}{3} \\right)$ โดยใช้อนุกรมแมคคลอรีน (Maclaurin series expansion)\n",
    "$$ \\cos(x) = 1 - \\frac{x^2}{2!} + \\frac{x^4}{4!} - \\frac{x^6}{6!} + \\ldots $$"
   ]
  },
  {
   "cell_type": "code",
   "execution_count": 2,
   "id": "50cced46",
   "metadata": {},
   "outputs": [],
   "source": [
    "## Solution   . . . \n",
    "\n",
    "\n"
   ]
  },
  {
   "cell_type": "markdown",
   "id": "6f67181e",
   "metadata": {},
   "source": [
    "***"
   ]
  },
  {
   "cell_type": "markdown",
   "id": "8e53ef34",
   "metadata": {},
   "source": [
    "## Problem:\n",
    "จงประมาณค่า $\\sin\\left( \\dfrac{\\pi}{2} \\right)$ โดยใช้อนุกรมแมคคลอรีน (Maclaurin series expansion)\n",
    "$$ \\sin(x) = x - \\frac{x^3}{3!} + \\frac{x^3}{5!} - \\frac{x^7}{7!} + \\ldots $$"
   ]
  },
  {
   "cell_type": "code",
   "execution_count": 1,
   "id": "fe87027d",
   "metadata": {},
   "outputs": [],
   "source": [
    "## Solution   . . . \n",
    "\n",
    "\n"
   ]
  },
  {
   "cell_type": "markdown",
   "id": "9ae86521",
   "metadata": {},
   "source": [
    "***"
   ]
  }
 ],
 "metadata": {
  "kernelspec": {
   "display_name": "Python 3 (ipykernel)",
   "language": "python",
   "name": "python3"
  },
  "language_info": {
   "codemirror_mode": {
    "name": "ipython",
    "version": 3
   },
   "file_extension": ".py",
   "mimetype": "text/x-python",
   "name": "python",
   "nbconvert_exporter": "python",
   "pygments_lexer": "ipython3",
   "version": "3.9.9"
  }
 },
 "nbformat": 4,
 "nbformat_minor": 5
}
