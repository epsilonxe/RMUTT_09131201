{
 "cells": [
  {
   "cell_type": "markdown",
   "id": "72bd6cdd",
   "metadata": {},
   "source": [
    "# Numerical Differentiation"
   ]
  },
  {
   "cell_type": "markdown",
   "id": "ce448ae0",
   "metadata": {},
   "source": [
    "## Problem 1\n",
    "In this problem, we consider the function\n",
    "\n",
    "$$ f(x) = -0.1x^4 -0.15x^3 - 0.5x^2 -0.25x + 12 $$\n",
    "\n"
   ]
  },
  {
   "cell_type": "markdown",
   "id": "b57212c6",
   "metadata": {},
   "source": [
    "### 1.1 Estimate the derivative of $f$ at $x = 0.5$ using the forward finite-divided-difference formula and a step size of $h = 0.25$, with the accuracy of $O(h)$ "
   ]
  },
  {
   "cell_type": "code",
   "execution_count": 2,
   "id": "07336a18",
   "metadata": {},
   "outputs": [],
   "source": [
    "def derivative(f, x, h, method, error):\n",
    "    if method == 'forward':\n",
    "        if error == 'Oh':\n",
    "            xi = [x, x+h]\n",
    "            d = (1/h) * (f(xi[1]) - f(xi[0]))\n",
    "        elif error == 'Oh2':\n",
    "            xi = [x, x+h, x+2*h]\n",
    "            d = (1/(2*h)) * (-f(xi[2]) + 4*f(xi[1]) - 3*f(xi[0]))\n",
    "    else:\n",
    "        d = None\n",
    "    return d    "
   ]
  },
  {
   "cell_type": "code",
   "execution_count": 3,
   "id": "099657a4",
   "metadata": {},
   "outputs": [],
   "source": [
    "def f(x):\n",
    "    return -0.1*x**4 - 0.15*x**3. - 0.5*x**2 -0.25*x + 12"
   ]
  },
  {
   "cell_type": "code",
   "execution_count": 4,
   "id": "325805cd",
   "metadata": {},
   "outputs": [
    {
     "data": {
      "text/plain": [
       "-1.1546875000000014"
      ]
     },
     "execution_count": 4,
     "metadata": {},
     "output_type": "execute_result"
    }
   ],
   "source": [
    "derivative(f, 0.5, h=0.25, method='forward', error='Oh')"
   ]
  },
  {
   "cell_type": "markdown",
   "id": "20dccfb2",
   "metadata": {},
   "source": [
    "### 1.2 Estimate the derivative of $f$ at $x = 0.5$ using the forward finite-divided-difference formula and a step size of $h = 0.25$, with the accuracy of $O(h^2)$ "
   ]
  },
  {
   "cell_type": "code",
   "execution_count": 5,
   "id": "cb61ba03",
   "metadata": {},
   "outputs": [
    {
     "data": {
      "text/plain": [
       "-0.859375"
      ]
     },
     "execution_count": 5,
     "metadata": {},
     "output_type": "execute_result"
    }
   ],
   "source": [
    "derivative(f, 0.5, h=0.25, method='forward', error='Oh2')"
   ]
  },
  {
   "cell_type": "markdown",
   "id": "8768722e",
   "metadata": {},
   "source": [
    "### 1.3 Estimate the derivative of $f$ at $x = 0.5$ using the backward finite-divided-difference formula and a step size of $h = 0.25$, with the accuracy of $O(h)$"
   ]
  },
  {
   "cell_type": "code",
   "execution_count": null,
   "id": "67b9e0e1",
   "metadata": {},
   "outputs": [],
   "source": []
  },
  {
   "cell_type": "markdown",
   "id": "df5d1c80",
   "metadata": {},
   "source": [
    "### 1.4 Estimate the derivative of $f$ at $x = 0.5$ using the backward finite-divided-difference formula and a step size of $h = 0.25$, with the accuracy of $O(h^2)$"
   ]
  },
  {
   "cell_type": "code",
   "execution_count": null,
   "id": "0d54be60",
   "metadata": {},
   "outputs": [],
   "source": []
  },
  {
   "cell_type": "markdown",
   "id": "80b1c4c2",
   "metadata": {},
   "source": [
    "### 1.5 Estimate the derivative of $f$ at $x = 0.5$ using the center finite-divided-difference formula and a step size of $h = 0.25$, with the accuracy of $O(h^2)$"
   ]
  },
  {
   "cell_type": "code",
   "execution_count": null,
   "id": "bbf9096b",
   "metadata": {},
   "outputs": [],
   "source": []
  },
  {
   "cell_type": "markdown",
   "id": "7f7e22ba",
   "metadata": {},
   "source": [
    "### 1.6 Estimate the derivative of $f$ at $x = 0.5$ using the center finite-divided-difference formula and a step size of $h = 0.25$, with the accuracy of $O(h^4)$"
   ]
  },
  {
   "cell_type": "code",
   "execution_count": null,
   "id": "0d87ddc1",
   "metadata": {},
   "outputs": [],
   "source": []
  },
  {
   "cell_type": "markdown",
   "id": "b9197d05",
   "metadata": {},
   "source": [
    "### 1.7 Estimate the second-order derivative of $f$ at $x = 0.5$ using a finite-divided-difference formula and a step size of $h = 0.25$, with the accuracy of $O(h^2)$"
   ]
  },
  {
   "cell_type": "code",
   "execution_count": null,
   "id": "e1b2fbc6",
   "metadata": {},
   "outputs": [],
   "source": []
  },
  {
   "cell_type": "markdown",
   "id": "49e28345",
   "metadata": {},
   "source": [
    "-------------\n",
    "\n",
    "## Problem 2\n",
    "\n",
    "Consider the function\n",
    "\n",
    "$$ g(x) = \\frac{\\sin(0.5\\sqrt{x})}{x} $$"
   ]
  },
  {
   "cell_type": "markdown",
   "id": "6f8d8df7",
   "metadata": {},
   "source": [
    "### 2.1 Estimate the derivative of $g$ at $x = 1.25$ and a step size $h = 0.2$, with the accuracy of $O(h^2)$"
   ]
  },
  {
   "cell_type": "code",
   "execution_count": 1,
   "id": "e5ed3388",
   "metadata": {},
   "outputs": [],
   "source": [
    "import numpy as np\n",
    "\n",
    "def g(x):\n",
    "    return np.sin(0.5*np.sqrt(x))/x"
   ]
  },
  {
   "cell_type": "code",
   "execution_count": null,
   "id": "19745b94",
   "metadata": {},
   "outputs": [],
   "source": [
    "\n"
   ]
  },
  {
   "cell_type": "markdown",
   "id": "15c11b3d",
   "metadata": {},
   "source": [
    "### 2.2 Estimate the second-order derivative of $g$ at $x = 1.25$ and a step size $h = 0.2$, with the accuracy of $O(h^2)$"
   ]
  },
  {
   "cell_type": "code",
   "execution_count": null,
   "id": "ae6e82cf",
   "metadata": {},
   "outputs": [],
   "source": [
    "\n"
   ]
  },
  {
   "cell_type": "markdown",
   "id": "cd356f7a",
   "metadata": {},
   "source": [
    "-------------\n",
    "\n",
    "## Problem 3\n",
    "\n",
    "The following data were collected for the distance traveled versus time for a rocket:\n",
    "\n",
    "|                   |      |     |      |      |     |       |\n",
    "|-------------------|------|-----|------|------|-----|-------|\n",
    "| Time $t$: (s)     | 0    | 25  |  50  | 75   | 100 | 125   |\n",
    "| Distance $y$: (m) | 0    | 32  |  58  | 78   | 92  | 100   |\n",
    "|                   |      |     |      |      |     |       |\n",
    "\n",
    "Use numerical differentiation to estimate the rocket’s velocity and acceleration at each time."
   ]
  },
  {
   "cell_type": "code",
   "execution_count": null,
   "id": "80542b88",
   "metadata": {},
   "outputs": [],
   "source": [
    "\n",
    "\n"
   ]
  }
 ],
 "metadata": {
  "kernelspec": {
   "display_name": "Python 3 (ipykernel)",
   "language": "python",
   "name": "python3"
  },
  "language_info": {
   "codemirror_mode": {
    "name": "ipython",
    "version": 3
   },
   "file_extension": ".py",
   "mimetype": "text/x-python",
   "name": "python",
   "nbconvert_exporter": "python",
   "pygments_lexer": "ipython3",
   "version": "3.10.6"
  }
 },
 "nbformat": 4,
 "nbformat_minor": 5
}
