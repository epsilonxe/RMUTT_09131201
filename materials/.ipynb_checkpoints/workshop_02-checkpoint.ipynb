{
 "cells": [
  {
   "cell_type": "markdown",
   "id": "783f968e",
   "metadata": {},
   "source": [
    "# Workshop 02\n",
    "\n",
    "Root Finding"
   ]
  },
  {
   "cell_type": "markdown",
   "id": "cdb202a3",
   "metadata": {},
   "source": [
    "## PROBLEM\n",
    "\n",
    "กําหนดฟังก์ชัน\n",
    "\n",
    "$$ f(x) = x^3 - 6x^2 + 11x - 5.9 $$\n",
    "\n",
    "จงหาค่ารากของสมการโดยวิธีกราฟ (Graphical Method)"
   ]
  },
  {
   "cell_type": "code",
   "execution_count": 1,
   "id": "652ed86f",
   "metadata": {},
   "outputs": [],
   "source": [
    "# Solution here ...\n",
    "\n",
    "\n",
    "\n"
   ]
  },
  {
   "cell_type": "markdown",
   "id": "3e2488de",
   "metadata": {},
   "source": [
    "## PROBLEM\n",
    "\n",
    "กําหนดฟังก์ชัน\n",
    "\n",
    "$$ f(x) = x^3 - 6x^2 + 11x - 5.9 $$\n",
    "\n",
    "จงหาค่ารากของสมการโดยวิธีแบ่งครึ่งช่วง (Bisection Method)\n",
    "\n",
    "กำหนดค่าเริ่มต้น\n",
    "    $$ x_l = 2.5 \\quad\\text{ และ }\\quad x_u = 3.5  $$\n",
    "โดยที่ค่าร้อยละของความคลาดเคลื่อนสัมพัทธ์ คือ $\\varepsilon_{s} = 0.1 \\%$"
   ]
  },
  {
   "cell_type": "code",
   "execution_count": 1,
   "id": "8faf29ac",
   "metadata": {},
   "outputs": [],
   "source": [
    "# Solution here ...\n",
    "\n",
    "\n",
    "\n"
   ]
  }
 ],
 "metadata": {
  "kernelspec": {
   "display_name": "Python 3 (ipykernel)",
   "language": "python",
   "name": "python3"
  },
  "language_info": {
   "codemirror_mode": {
    "name": "ipython",
    "version": 3
   },
   "file_extension": ".py",
   "mimetype": "text/x-python",
   "name": "python",
   "nbconvert_exporter": "python",
   "pygments_lexer": "ipython3",
   "version": "3.9.9"
  }
 },
 "nbformat": 4,
 "nbformat_minor": 5
}
