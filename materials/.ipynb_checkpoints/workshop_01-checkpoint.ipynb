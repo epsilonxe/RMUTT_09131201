{
 "cells": [
  {
   "cell_type": "markdown",
   "id": "a61e21e1",
   "metadata": {},
   "source": [
    "# Workshop: Erorrs and Approximation\n",
    "ค่าคลาดเคลื่อนและค่าประมาณ\n"
   ]
  },
  {
   "cell_type": "markdown",
   "id": "9ce11662",
   "metadata": {},
   "source": [
    "## Problems:\n",
    "จากตารางที่กำหนดให้ \n",
    "\n",
    "| ค่าจริง  | ค่าประมาณ   |\n",
    "|--------| -----------|\n",
    "| 10000  |  9999      |\n",
    "| $\\pi$  |  $\\dfrac{22}{7}$ |\n",
    "| $\\mathrm{e}$  |  2.718 |\n",
    "| $\\sqrt{2}$  |  1.414 |\n",
    "\n",
    "จงหา\n",
    "- ค่าคลาดเคลื่อน ($E$) \n",
    "- ค่าคลาดเคลื่อนสัมบูรณ์ ($E_{abs}$) \n",
    "- ค่าคลาดเคลื่อนสัมพัทธ์ ($E_{rel}$) และ\n",
    "- ร้อยละของค่าค่าคลาดเคลื่อนสัมพัทธ์ ($\\varepsilon_{t}$)\n",
    "\n"
   ]
  },
  {
   "cell_type": "code",
   "execution_count": 1,
   "id": "f9557d34",
   "metadata": {},
   "outputs": [],
   "source": [
    "## Solution to Problem 1  . . . \n",
    "\n",
    "\n"
   ]
  },
  {
   "cell_type": "markdown",
   "id": "4349866d",
   "metadata": {},
   "source": [
    "## Problem:\n",
    "จงประมาณค่า $\\cos\\left( \\dfrac{\\pi}{3} \\right)$ โดยใช้อนุกรมแมคคลอรีน (Maclaurin series expansion)\n",
    "$$ \\cos(x) = 1 - \\frac{x^2}{2!} + \\frac{x^4}{4!} - \\frac{x^6}{6!} + \\ldots $$"
   ]
  },
  {
   "cell_type": "code",
   "execution_count": 2,
   "id": "d04827e9",
   "metadata": {},
   "outputs": [],
   "source": [
    "## Solution to Problem 2  . . . \n",
    "\n",
    "\n"
   ]
  },
  {
   "cell_type": "markdown",
   "id": "f6a2da6d",
   "metadata": {},
   "source": [
    "## Problem:\n",
    "จงประมาณค่า $\\sin\\left( \\dfrac{\\pi}{2} \\right)$ โดยใช้อนุกรมแมคคลอรีน (Maclaurin series expansion)\n",
    "$$ \\cos(x) = x - \\frac{x^3}{3!} + \\frac{x^3}{5!} - \\frac{x^7}{7!} + \\ldots $$"
   ]
  },
  {
   "cell_type": "code",
   "execution_count": null,
   "id": "90a6c291",
   "metadata": {},
   "outputs": [],
   "source": []
  }
 ],
 "metadata": {
  "kernelspec": {
   "display_name": "Python 3 (ipykernel)",
   "language": "python",
   "name": "python3"
  },
  "language_info": {
   "codemirror_mode": {
    "name": "ipython",
    "version": 3
   },
   "file_extension": ".py",
   "mimetype": "text/x-python",
   "name": "python",
   "nbconvert_exporter": "python",
   "pygments_lexer": "ipython3",
   "version": "3.9.9"
  }
 },
 "nbformat": 4,
 "nbformat_minor": 5
}
