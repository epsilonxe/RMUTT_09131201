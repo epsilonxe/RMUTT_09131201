{
 "cells": [
  {
   "cell_type": "markdown",
   "id": "72bd6cdd",
   "metadata": {},
   "source": [
    "# Numerical Integrations"
   ]
  },
  {
   "cell_type": "markdown",
   "id": "ce448ae0",
   "metadata": {},
   "source": [
    "## Problem 1\n",
    "Evaluate the following integral\n",
    "\n",
    "$$ \\int_{0}^{3} x\\mathrm{e}^{2x} \\mathrm{d}x $$\n",
    "\n",
    "with the following methods."
   ]
  },
  {
   "cell_type": "markdown",
   "id": "b57212c6",
   "metadata": {},
   "source": [
    "### 1.1 Single application of the trapezoidal rule.\n",
    "\n",
    "$$ \\int_{a}^{b} f(x) \\mathrm{d}x \\approx h \\cdot \\left( f(a) + f(b)\\right), $$\n",
    "where $ h = \\dfrac{(b-a)}{2} $."
   ]
  },
  {
   "cell_type": "code",
   "execution_count": 2,
   "id": "07336a18",
   "metadata": {},
   "outputs": [],
   "source": [
    "import numpy as np"
   ]
  },
  {
   "cell_type": "code",
   "execution_count": 3,
   "id": "099657a4",
   "metadata": {},
   "outputs": [],
   "source": [
    "def f(x):\n",
    "    return x*np.exp(2*x)"
   ]
  },
  {
   "cell_type": "code",
   "execution_count": 4,
   "id": "325805cd",
   "metadata": {},
   "outputs": [],
   "source": [
    "def trapezoid(f, a, b):\n",
    "    h = (b-a)/2\n",
    "    return h*(f(a)+f(b))"
   ]
  },
  {
   "cell_type": "code",
   "execution_count": 73,
   "id": "7bee7023",
   "metadata": {},
   "outputs": [
    {
     "data": {
      "text/plain": [
       "1815.4295707173078"
      ]
     },
     "execution_count": 73,
     "metadata": {},
     "output_type": "execute_result"
    }
   ],
   "source": [
    "trapezoid(f, 0, 3)"
   ]
  },
  {
   "cell_type": "markdown",
   "id": "20dccfb2",
   "metadata": {},
   "source": [
    "### 1.2 Multiple-application trapezoidal rule with $n = 2$."
   ]
  },
  {
   "cell_type": "code",
   "execution_count": 26,
   "id": "cb61ba03",
   "metadata": {},
   "outputs": [
    {
     "name": "stdout",
     "output_type": "stream",
     "text": [
      "[0.  1.5 3. ]\n"
     ]
    }
   ],
   "source": [
    "n = 2\n",
    "interval = np.linspace(0, 3, n + 1)\n",
    "print(interval)"
   ]
  },
  {
   "cell_type": "code",
   "execution_count": 27,
   "id": "a665ac7b",
   "metadata": {},
   "outputs": [
    {
     "name": "stdout",
     "output_type": "stream",
     "text": [
      "952.9072434358262\n"
     ]
    }
   ],
   "source": [
    "I = 0\n",
    "for k in range(0, n):\n",
    "    a = interval[k]\n",
    "    b = interval[k+1]\n",
    "    I = I + trapezoid(f, a, b)\n",
    "print(I)"
   ]
  },
  {
   "cell_type": "code",
   "execution_count": 74,
   "id": "5a6c1062",
   "metadata": {},
   "outputs": [],
   "source": [
    "def multi_trapezoid(f, a, b, n):\n",
    "    interval = np.linspace(0, 3, n + 1)\n",
    "    I = 0\n",
    "    for k in range(0, n):\n",
    "        a = interval[k]\n",
    "        b = interval[k+1]\n",
    "        I = I + trapezoid(f, a, b)\n",
    "    return I"
   ]
  },
  {
   "cell_type": "code",
   "execution_count": 76,
   "id": "8e6e6571",
   "metadata": {},
   "outputs": [
    {
     "data": {
      "text/plain": [
       "952.9072434358262"
      ]
     },
     "execution_count": 76,
     "metadata": {},
     "output_type": "execute_result"
    }
   ],
   "source": [
    "multi_trapezoid(f, 0, 3, n=2)"
   ]
  },
  {
   "cell_type": "markdown",
   "id": "8768722e",
   "metadata": {},
   "source": [
    "### 1.3 Multiple-application trapezoidal rule with $n = 4$."
   ]
  },
  {
   "cell_type": "code",
   "execution_count": 78,
   "id": "67b9e0e1",
   "metadata": {},
   "outputs": [
    {
     "data": {
      "text/plain": [
       "630.8784808896088"
      ]
     },
     "execution_count": 78,
     "metadata": {},
     "output_type": "execute_result"
    }
   ],
   "source": [
    "multi_trapezoid(f, 0, 3, n=4)"
   ]
  },
  {
   "cell_type": "markdown",
   "id": "84de3ffa",
   "metadata": {},
   "source": [
    "### 1.4 Compare the integral by the multiple-application of trapezoidal rule with different values of $n$."
   ]
  },
  {
   "cell_type": "code",
   "execution_count": 79,
   "id": "99a6a874",
   "metadata": {},
   "outputs": [
    {
     "data": {
      "image/png": "[encoded data removed]",
      "text/plain": [
       "<Figure size 640x480 with 1 Axes>"
      ]
     },
     "metadata": {},
     "output_type": "display_data"
    }
   ],
   "source": [
    "import matplotlib.pyplot as plt\n",
    "\n",
    "n = 50\n",
    "N = np.arange(1, n+1)\n",
    "I = [None] * len(N)\n",
    "for k in range(len(N)):\n",
    "    I[k] = multi_trapezoid(f, 0, 3, n=N[k])\n",
    "plt.plot(N, I)\n",
    "plt.grid()\n",
    "plt.xlabel('$n$ of multiple-application of trapezoid rule')\n",
    "plt.ylabel('Integral');"
   ]
  },
  {
   "cell_type": "markdown",
   "id": "242524dd",
   "metadata": {},
   "source": [
    "### 1.5 Compute the percent relative error for each of the estimates."
   ]
  },
  {
   "cell_type": "code",
   "execution_count": 60,
   "id": "e2bebfa4",
   "metadata": {},
   "outputs": [],
   "source": [
    "def rel_error(x, y):\n",
    "    return 100*abs(x - y)/abs(y)"
   ]
  },
  {
   "cell_type": "code",
   "execution_count": 80,
   "id": "687d52b4",
   "metadata": {},
   "outputs": [
    {
     "name": "stdout",
     "output_type": "stream",
     "text": [
      "n = 1: Integral = 1815.4295707173078\n",
      "n = 02: Integral = 952.90724 --> error = 100.000%\n",
      "n = 03: Integral = 721.72855 --> error = 50.000%\n",
      "n = 04: Integral = 630.87848 --> error = 33.333%\n",
      "n = 05: Integral = 586.71894 --> error = 25.000%\n",
      "n = 06: Integral = 562.12445 --> error = 20.000%\n",
      "n = 07: Integral = 547.07948 --> error = 16.667%\n",
      "n = 08: Integral = 537.22589 --> error = 14.286%\n",
      "n = 09: Integral = 530.42925 --> error = 12.500%\n",
      "n = 10: Integral = 525.54694 --> error = 11.111%\n",
      "n = 11: Integral = 521.92339 --> error = 10.000%\n",
      "n = 12: Integral = 519.16096 --> error = 9.091%\n",
      "n = 13: Integral = 517.00730 --> error = 8.333%\n",
      "n = 14: Integral = 515.29602 --> error = 7.692%\n",
      "n = 15: Integral = 513.91390 --> error = 7.143%\n",
      "n = 16: Integral = 512.78170 --> error = 6.667%\n",
      "n = 17: Integral = 511.84264 --> error = 6.250%\n",
      "n = 18: Integral = 511.05522 --> error = 5.882%\n",
      "n = 19: Integral = 510.38846 --> error = 5.556%\n",
      "n = 20: Integral = 509.81894 --> error = 5.263%\n",
      "n = 21: Integral = 509.32864 --> error = 5.000%\n",
      "n = 22: Integral = 508.90352 --> error = 4.762%\n",
      "n = 23: Integral = 508.53253 --> error = 4.545%\n",
      "n = 24: Integral = 508.20686 --> error = 4.348%\n",
      "n = 25: Integral = 507.91942 --> error = 4.167%\n",
      "n = 26: Integral = 507.66445 --> error = 4.000%\n",
      "n = 27: Integral = 507.43725 --> error = 3.846%\n",
      "n = 28: Integral = 507.23391 --> error = 3.704%\n",
      "n = 29: Integral = 507.05123 --> error = 3.571%\n",
      "n = 30: Integral = 506.88648 --> error = 3.448%\n",
      "n = 31: Integral = 506.73740 --> error = 3.333%\n",
      "n = 32: Integral = 506.60206 --> error = 3.226%\n",
      "n = 33: Integral = 506.47883 --> error = 3.125%\n",
      "n = 34: Integral = 506.36630 --> error = 3.030%\n",
      "n = 35: Integral = 506.26327 --> error = 2.941%\n",
      "n = 36: Integral = 506.16870 --> error = 2.857%\n",
      "n = 37: Integral = 506.08169 --> error = 2.778%\n",
      "n = 38: Integral = 506.00145 --> error = 2.703%\n",
      "n = 39: Integral = 505.92730 --> error = 2.632%\n",
      "n = 40: Integral = 505.85864 --> error = 2.564%\n",
      "n = 41: Integral = 505.79493 --> error = 2.500%\n",
      "n = 42: Integral = 505.73572 --> error = 2.439%\n",
      "n = 43: Integral = 505.68059 --> error = 2.381%\n",
      "n = 44: Integral = 505.62918 --> error = 2.326%\n",
      "n = 45: Integral = 505.58115 --> error = 2.273%\n",
      "n = 46: Integral = 505.53622 --> error = 2.222%\n",
      "n = 47: Integral = 505.49412 --> error = 2.174%\n",
      "n = 48: Integral = 505.45463 --> error = 2.128%\n",
      "n = 49: Integral = 505.41753 --> error = 2.083%\n",
      "n = 50: Integral = 505.38263 --> error = 2.041%\n"
     ]
    }
   ],
   "source": [
    "print(f'n = {N[0]}: Integral = {I[0]}')\n",
    "for k in range(1, len(N)):\n",
    "    error = rel_error(N[k], N[k-1])\n",
    "    print(f'n = {N[k]:02d}: Integral = {I[k]:.5f} --> error = {error:.3f}%')"
   ]
  },
  {
   "cell_type": "markdown",
   "id": "49e28345",
   "metadata": {},
   "source": [
    "-------------\n",
    "\n",
    "## Problem 2\n",
    "\n",
    "Evaluate the following integral\n",
    "\n",
    "$$ \\int_{0}^{{\\pi}/{2}} (6 + 3\\cos x) \\mathrm{d}x $$\n",
    "\n",
    "with the following methods."
   ]
  },
  {
   "cell_type": "markdown",
   "id": "6f8d8df7",
   "metadata": {},
   "source": [
    "### 2.1 Single application of Simpson’s 1/3 rule.\n",
    "\n",
    "$$ \\int_{a}^{b} f(x) \\mathrm{d}x \\approx \\frac{h}{3} \\cdot \\left( f(x_0) + 4f(x_1) + f(x_2)\\right), $$\n",
    "\n",
    "where $h = \\dfrac{b-a}{2}, x_0 = a, x_1 = a + h$ and $x_2 = b$."
   ]
  },
  {
   "cell_type": "code",
   "execution_count": null,
   "id": "e5ed3388",
   "metadata": {},
   "outputs": [],
   "source": [
    "\n"
   ]
  },
  {
   "cell_type": "markdown",
   "id": "15c11b3d",
   "metadata": {},
   "source": [
    "### 2.2 Multiple-application of Simpson’s 1/3 rule with $n=2$."
   ]
  },
  {
   "cell_type": "code",
   "execution_count": null,
   "id": "ae6e82cf",
   "metadata": {},
   "outputs": [],
   "source": [
    "\n"
   ]
  },
  {
   "cell_type": "markdown",
   "id": "ff26e6d8",
   "metadata": {},
   "source": [
    "### 2.3 Multiple-application of Simpson’s 1/3 rule with $n=4$."
   ]
  },
  {
   "cell_type": "code",
   "execution_count": null,
   "id": "72f2b8a8",
   "metadata": {},
   "outputs": [],
   "source": [
    "\n"
   ]
  },
  {
   "cell_type": "markdown",
   "id": "42de2941",
   "metadata": {},
   "source": [
    "### 2.4 Compare the integral by the multiple-application of Simpson's 1/3 rule with different values of $n$."
   ]
  },
  {
   "cell_type": "code",
   "execution_count": null,
   "id": "e0c23388",
   "metadata": {},
   "outputs": [],
   "source": [
    "\n"
   ]
  },
  {
   "cell_type": "markdown",
   "id": "487565ef",
   "metadata": {},
   "source": [
    "### 2.5 Compute the percent relative error for each of the estimates."
   ]
  },
  {
   "cell_type": "code",
   "execution_count": null,
   "id": "1516dd20",
   "metadata": {},
   "outputs": [],
   "source": []
  },
  {
   "cell_type": "markdown",
   "id": "cd356f7a",
   "metadata": {},
   "source": [
    "-------------\n",
    "\n",
    "## Problem 3\n",
    "\n",
    "Evaluate the following integral\n",
    "\n",
    "$$ \\int_{1}^{2} \\left(x + \\frac{2}{x}\\right) \\mathrm{d}x $$\n",
    "\n",
    "with the following methods."
   ]
  },
  {
   "cell_type": "markdown",
   "id": "acb4956d",
   "metadata": {},
   "source": [
    "### 3.1 Single application of Simpson’s 3/8 rule.\n",
    "\n",
    "$$ \\int_{a}^{b} f(x) \\mathrm{d}x \\approx \\frac{3h}{8} \\cdot \\left( f(x_0) + 3f(x_1) + 3f(x_2) + f(x_3)\\right), $$\n",
    "\n",
    "where $h = \\dfrac{b-a}{2}, x_0 = a, x_1 = a + h, x_2 = a + 2h $ and $x_3 = b$."
   ]
  },
  {
   "cell_type": "code",
   "execution_count": null,
   "id": "80542b88",
   "metadata": {},
   "outputs": [],
   "source": [
    "\n",
    "\n"
   ]
  },
  {
   "cell_type": "markdown",
   "id": "7aaa605e",
   "metadata": {},
   "source": [
    "### 3.2 Multiple-application of Simpson’s 3/8 rule with $n=2$."
   ]
  },
  {
   "cell_type": "code",
   "execution_count": null,
   "id": "fa565a82",
   "metadata": {},
   "outputs": [],
   "source": []
  },
  {
   "cell_type": "markdown",
   "id": "17c7d90f",
   "metadata": {},
   "source": [
    "### 3.3 Multiple-application of Simpson’s 3/8 rule with $n=4$."
   ]
  },
  {
   "cell_type": "code",
   "execution_count": null,
   "id": "338c59bf",
   "metadata": {},
   "outputs": [],
   "source": [
    "\n"
   ]
  },
  {
   "cell_type": "markdown",
   "id": "3ade3141",
   "metadata": {},
   "source": [
    "### 3.4 Compare the integral by the multiple-application of Simpson's 1/3 rule with different values of $n$."
   ]
  },
  {
   "cell_type": "code",
   "execution_count": null,
   "id": "0b58ac1a",
   "metadata": {},
   "outputs": [],
   "source": []
  },
  {
   "cell_type": "markdown",
   "id": "82ae1b17",
   "metadata": {},
   "source": [
    "### 3.5 Compute the percent relative error for each of the estimates."
   ]
  },
  {
   "cell_type": "code",
   "execution_count": null,
   "id": "7c24f799",
   "metadata": {},
   "outputs": [],
   "source": []
  },
  {
   "cell_type": "markdown",
   "id": "fa029436",
   "metadata": {},
   "source": [
    "------------"
   ]
  }
 ],
 "metadata": {
  "kernelspec": {
   "display_name": "Python 3 (ipykernel)",
   "language": "python",
   "name": "python3"
  },
  "language_info": {
   "codemirror_mode": {
    "name": "ipython",
    "version": 3
   },
   "file_extension": ".py",
   "mimetype": "text/x-python",
   "name": "python",
   "nbconvert_exporter": "python",
   "pygments_lexer": "ipython3",
   "version": "3.10.6"
  }
 },
 "nbformat": 4,
 "nbformat_minor": 5
}
