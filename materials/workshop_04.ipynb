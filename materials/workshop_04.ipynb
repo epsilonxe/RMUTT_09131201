{
 "cells": [
  {
   "cell_type": "markdown",
   "id": "783f968e",
   "metadata": {},
   "source": [
    "# Workshop 04\n",
    "\n",
    "# Systems of Linear Equations"
   ]
  },
  {
   "cell_type": "markdown",
   "id": "0a827f76",
   "metadata": {},
   "source": [
    "## Introduction to Numpy\n",
    "\n",
    "Almost every calculation that we do in linear algebra will involve working with arrays of numbers. An array can be thought of as a collection of numbers arranged into rows and columns to form a rectangle, such as the example below, which has 2 rows and 4 columns.\n",
    "\n",
    "$$\\begin{bmatrix} \n",
    "5 & -1 & 1 & 0 \\\\\n",
    "4 & 3 & 12 & -6\n",
    "\\end{bmatrix}$$\n",
    " \n",
    "Although it is possible to represent arrays using a basic Python objects called lists, we will make use of NumPy array objects for our work. NumPy has a powerful way to represent arrays, and has many built-in tools for processing them efficiently. Just as with the math module, we have to first import NumPy before we can use it. This time we will use the code \n",
    "\n",
    "```python\n",
    "import numpy as np\n",
    "```\n",
    "\n",
    "import numpy as np\n",
    ", which imports the module but gives it a different name, called an alias, that is more convenient to type.\n",
    "\n",
    "The easiest way to create the array above is to use the \n",
    "```python\n",
    "array\n",
    "```\n",
    "function, and provide it a list of all the array entries in a specific format. The row entries are separated by commas and enclosed in square brackets `[]`, then all the rows listed together, separated by commas, and enclosed in another set of square brackets."
   ]
  },
  {
   "cell_type": "code",
   "execution_count": null,
   "id": "a74ec6dc",
   "metadata": {},
   "outputs": [],
   "source": [
    "import numpy as np\n",
    "\n",
    "## The object [[5, -1, 1, 0],[4, 3, 12, -6]], which gets passed into the array function is a Python list.\n",
    "## The object returned by the array function is a NumPy array object.\n",
    "\n",
    "A = np.array([ [5, -1, 1, 0], [4, 3, 12, -6] ])\n",
    "\n",
    "print(A)"
   ]
  },
  {
   "cell_type": "markdown",
   "id": "70a94a42",
   "metadata": {},
   "source": [
    "Another way to create the array we want is to first make an array that is one long row, and then use the \n",
    "\n",
    "```python\n",
    "reshape\n",
    "```\n",
    "\n",
    "function. This can be more convenient than typing the extra square brackets."
   ]
  },
  {
   "cell_type": "code",
   "execution_count": null,
   "id": "e5cfd0b3",
   "metadata": {},
   "outputs": [],
   "source": [
    "B = np.array([5, -1, 1, 0, 4, 3, 12, -6])\n",
    "print(\"This is B before reshaping.\")\n",
    "print(B)\n",
    "\n",
    "print('-' * 50)\n",
    "\n",
    "C = B.reshape((2,4))\n",
    "print(\"This is C, which is the entries of B formed into a new shape.\")\n",
    "print(C)"
   ]
  },
  {
   "cell_type": "markdown",
   "id": "9b3e533f",
   "metadata": {},
   "source": [
    "We will often wish to make modifications to an array while keeping a copy of the original. In this situation we can duplicate an existing array with the \n",
    "```python\n",
    "copy\n",
    "```\n",
    " function."
   ]
  },
  {
   "cell_type": "code",
   "execution_count": null,
   "id": "f451497d",
   "metadata": {},
   "outputs": [],
   "source": [
    "D = np.copy(A)\n",
    "print(D)"
   ]
  },
  {
   "cell_type": "markdown",
   "id": "ffd568ee",
   "metadata": {},
   "source": [
    "In order to access individual entries in an array, we need to use a pair of indices to refer to the row and column of the entry we are accessing. As with almost every other computing language, the count begins at zero in Python! This means that the first row has index 0, the second has index 1 and so forth. The same is true for the columns. Beginning the count at zero is not difficult, but it does require an adjustment in thinking if one is new to programming."
   ]
  },
  {
   "cell_type": "code",
   "execution_count": null,
   "id": "d7cc31e8",
   "metadata": {},
   "outputs": [],
   "source": [
    "print(A[0,2])"
   ]
  },
  {
   "cell_type": "markdown",
   "id": "e36a6dc8",
   "metadata": {},
   "source": [
    "Sometimes it is useful to create an array that contains mostly zeros. In this case, we can create an array that contains all zeros, and then modify the few entries that we want to be nonzero."
   ]
  },
  {
   "cell_type": "code",
   "execution_count": null,
   "id": "a542c433",
   "metadata": {},
   "outputs": [],
   "source": [
    "## Create a 4x4 array that is all zeros.\n",
    "D = np.zeros((4,4))\n",
    "\n",
    "print(D)"
   ]
  },
  {
   "cell_type": "code",
   "execution_count": null,
   "id": "18f3104c",
   "metadata": {},
   "outputs": [],
   "source": [
    "## Set entries along the main diagonal to 2.\n",
    "for i in range(4):\n",
    "    D[i,i] = 2\n",
    "    \n",
    "print(D)"
   ]
  },
  {
   "cell_type": "markdown",
   "id": "9894d0f2",
   "metadata": {},
   "source": [
    "--------------------------------"
   ]
  },
  {
   "cell_type": "markdown",
   "id": "743cfd33",
   "metadata": {},
   "source": [
    "## Linear Systems\n",
    "\n",
    "A linear system of $m$ equations with $n$ unknowns $x_1, x_2, x_3, \\ldots, x_n$\n",
    ", is a collection of equations that can be written in the following form.\n",
    "\n",
    "$$\\begin{align*} \n",
    "a_{11}x_1 + a_{12}x_2 + a_{13}x_3 + \\ldots + a_{1n}x_n & = b_1, \\\\\n",
    "a_{21}x_1 + a_{22}x_2 + a_{23}x_3 + \\ldots + a_{2n}x_n & = b_2, \\\\\n",
    "a_{31}x_1 + a_{32}x_2 + a_{33}x_3 + \\ldots + a_{3n}x_n & = b_3, \\\\\n",
    "\\vdots \\hspace{3cm} \\vdots \\hspace{2cm} \\vdots  & \\hspace{5mm}  \\vdots \\\\\n",
    "a_{m1}x_1 + a_{m2}x_2 + a_{m3}x_3 + \\ldots + a_{mn}x_n & = b_m\n",
    "\\end{align*}$$\n",
    "  \n",
    "Solutions to the linear system are collections of values for the unknowns that satisfy all of the equations simultaneously. The set of all possible solutions for the system is known as its solution set. A linear system that has at least one solution is said to be consistent, while a linear system that has no solutions is said to be inconsistent.\n",
    "\n",
    "Linear systems with two equations and two unknowns are a great starting point since we easily graph the sets of points that satisfy each equation in the $x_1x_2$\n",
    " coordinate plane. The set of points that satisfy a single linear equation in two variables forms a line in the plane. Three examples will be sufficient to show the possible solution sets for linear systems in this setting.\n",
    "\n"
   ]
  },
  {
   "cell_type": "markdown",
   "id": "77ed27ba",
   "metadata": {},
   "source": [
    "### Example 1\n",
    "\n",
    "$$\\begin{align*} \n",
    "x_1 + 3x_2 & = 5 \\\\\n",
    "x_1 - 2x_2 & = -5\n",
    "\\end{align*}$$\n",
    " \n",
    "The solution set for each equation can be represented by a line, and the solution set for the linear system is represented by all points that lie on both lines. In this case the lines intersect at a single point and there is only one pair of values that satisfy both equations, $x_1 = -1$ and $x_2 = 2$. This linear system is consistent."
   ]
  },
  {
   "cell_type": "code",
   "execution_count": null,
   "id": "5a9ec4bd",
   "metadata": {},
   "outputs": [],
   "source": [
    "import numpy as np\n",
    "import matplotlib.pyplot as plt\n",
    "\n",
    "x = np.linspace(-5,5,100)\n",
    "\n",
    "fig, ax = plt.subplots()\n",
    "# fig.set_figheight(3)\n",
    "# fig.set_figwidth(8)\n",
    "# fig.dpi = 150\n",
    "ax.plot(x,(5-x)/3)\n",
    "ax.plot(x,(5+x)/2)\n",
    "\n",
    "ax.text(1,1.6,'$x_1+3x_2 = 5$')\n",
    "ax.text(-3,0.5,'$x_1-2x_2 = -5$')\n",
    "\n",
    "ax.set_xlim(-4,4)\n",
    "ax.set_ylim(-2,6)\n",
    "ax.axvline(color='k', linewidth = 1)\n",
    "ax.axhline(color='k', linewidth = 1)\n",
    "\n",
    "## This options specifies the ticks based the list of numbers provided.\n",
    "ax.set_xticks(list(range(-4, 5)))\n",
    "ax.set_aspect('equal')\n",
    "ax.grid(True, ls=':')"
   ]
  },
  {
   "cell_type": "markdown",
   "id": "1687821f",
   "metadata": {},
   "source": [
    "### Example 2: System with no solutions\n",
    "\n",
    "$$\\begin{align*} \n",
    "x_1 + 3x_2 & = 5 \\\\\n",
    "x_1 + 3x_2 & = 0\n",
    "\\end{align*}$$\n",
    " \n",
    "In this example the solution sets of the individual equations represent lines that are parallel. There is no pair of values that satisfy both equations simultaneously. This linear system is inconsistent."
   ]
  },
  {
   "cell_type": "code",
   "execution_count": null,
   "id": "9a24a161",
   "metadata": {},
   "outputs": [],
   "source": [
    "fig, ax = plt.subplots()\n",
    "ax.plot(x,(5-x)/3)\n",
    "ax.plot(x,-x/3)\n",
    "\n",
    "ax.text(1,1.6,'$x_1+3x_2 = 5$')\n",
    "ax.text(0.3,-1.4,'$x_1+3x_2 = 0$')\n",
    "\n",
    "ax.set_xlim(-4,4)\n",
    "ax.set_ylim(-2,6)\n",
    "ax.axvline(color='k',linewidth = 1)\n",
    "ax.axhline(color='k',linewidth = 1)\n",
    "\n",
    "## This options specifies the ticks based the list of numbers provided.\n",
    "ax.set_xticks(list(range(-4,5)))\n",
    "ax.set_aspect('equal')\n",
    "ax.grid(True,ls=':')"
   ]
  },
  {
   "cell_type": "markdown",
   "id": "41328a06",
   "metadata": {},
   "source": [
    "### Example 3: System with an infinite number of solutions\n",
    "\n",
    "$$\\begin{align*} \n",
    "x_1 + 3x_2 & = 5 \\\\\n",
    "2x_1 + 6x_2 & = 10\n",
    "\\end{align*}$$\n",
    "\n",
    " \n",
    "In the final example, the second equation is a multiple of the first equation. The solution set for both equations is represented by the same line and thus every point on the line is a solution to the linear system. This linear system is consistent."
   ]
  },
  {
   "cell_type": "code",
   "execution_count": null,
   "id": "113e46b5",
   "metadata": {},
   "outputs": [],
   "source": [
    "fig, ax = plt.subplots()\n",
    "ax.plot(x,(5-x)/3)\n",
    "ax.plot(x,(5-x)/3)\n",
    "\n",
    "ax.text(1,1.6,'$x_1+3x_2 = 5$')\n",
    "ax.text(-3,1.2,'$2x_1+6x_2 = 10$')\n",
    "\n",
    "ax.set_xlim(-4,4)\n",
    "ax.set_ylim(-2,6)\n",
    "ax.axvline(color='k',linewidth = 1)\n",
    "ax.axhline(color='k',linewidth = 1)\n",
    "\n",
    "ax.set_xticks(list(range(-4,5)))\n",
    "ax.set_aspect('equal')\n",
    "ax.grid(True,ls=':')"
   ]
  },
  {
   "cell_type": "markdown",
   "id": "30dc21ca",
   "metadata": {},
   "source": [
    "## Exercise\n",
    "---------------"
   ]
  },
  {
   "cell_type": "markdown",
   "id": "a435f201",
   "metadata": {},
   "source": [
    "### Exercise 1\n",
    "Consider the system of equations given below. Find a value for the coefficient $a$ so that the system has exactly **one solution**. For that value of $a$, find the solution to the system of equations and plot the lines formed by your equations to check your answer.\n",
    "\n",
    "$$\n",
    "\\begin{align*}\n",
    "ax_1 + 2x_2 & = 1 \\\\\n",
    "4x_1 + 8x_2 & = 12\n",
    "\\end{align*}\n",
    "$$"
   ]
  },
  {
   "cell_type": "code",
   "execution_count": null,
   "id": "8717d1e0",
   "metadata": {},
   "outputs": [],
   "source": [
    "## Your solution here ...\n",
    "\n"
   ]
  },
  {
   "cell_type": "markdown",
   "id": "400daec9",
   "metadata": {},
   "source": [
    "### Exercise 2\n",
    "Find a value for the coefficient $a$ so that the system has **no solution**. Plot the lines formed by your equations to verify there is no solution.\n",
    "\n",
    "$$\n",
    "\\begin{align*}\n",
    "ax_1 + 2x_2 & = 1 \\\\\n",
    "4x_1 + 8x_2 & = 12\n",
    "\\end{align*}\n",
    "$$"
   ]
  },
  {
   "cell_type": "code",
   "execution_count": null,
   "id": "3e3db986",
   "metadata": {},
   "outputs": [],
   "source": [
    "## Your solution here ...\n",
    "\n"
   ]
  },
  {
   "cell_type": "markdown",
   "id": "0b04973a",
   "metadata": {},
   "source": [
    "### Exercise 3\n",
    "Consider the system of equations given below. Under what conditions on the coefficients $a,b,c,d,e,f$\n",
    "does this system have only one solution? No solutions? An infinite number of solutions? (Think about what must be true of the slopes and intercepts of the lines in each case.)\n",
    "\n",
    "$$\n",
    "\\begin{align*}\n",
    "ax_1 + bx_2 & = e \\\\\n",
    "cx_1 + dx_2 & = f\n",
    "\\end{align*}\n",
    "$$"
   ]
  },
  {
   "cell_type": "code",
   "execution_count": null,
   "id": "d28ca567",
   "metadata": {},
   "outputs": [],
   "source": [
    "## Your solution here ... \n",
    "\n"
   ]
  }
 ],
 "metadata": {
  "kernelspec": {
   "display_name": "Python 3 (ipykernel)",
   "language": "python",
   "name": "python3"
  },
  "language_info": {
   "codemirror_mode": {
    "name": "ipython",
    "version": 3
   },
   "file_extension": ".py",
   "mimetype": "text/x-python",
   "name": "python",
   "nbconvert_exporter": "python",
   "pygments_lexer": "ipython3",
   "version": "3.9.9"
  }
 },
 "nbformat": 4,
 "nbformat_minor": 5
}
