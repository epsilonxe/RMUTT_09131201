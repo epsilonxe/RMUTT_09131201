{
 "cells": [
  {
   "cell_type": "markdown",
   "metadata": {},
   "source": [
    "# Workshop 07\n",
    "# Systems of Linear Equations"
   ]
  },
  {
   "cell_type": "markdown",
   "metadata": {},
   "source": [
    "## Inverse Matrices\n",
    "\n",
    "In this section we consider the idea of inverse matrices and describe a common method for their construction.\n",
    "\n",
    "As a motivation for the idea, let's again consider the system of linear equations written in the matrix form.\n",
    "\n",
    "$$\n",
    "AX = B\n",
    "$$\n",
    "\n",
    "Again, $A$ is a matrix of coefficients that are known, $B$ is a vector of known data, and $X$ is a vector that is unknown.  If $A$, $B$, and $X$ were instead only numbers, we would recognize immediately that the way to solve for $X$ is to divide both sides of the equation by $A$, so long as $A\\neq 0$.  The natural question to ask about the system is *Can we define matrix division?*\n",
    "\n",
    "The answer is *Not quite.*  We can make progress though by understanding that in the case that $A$,$B$, and $X$ are numbers, we could also find the solution by multiplying by $1/A$.  This subtle distinction is important because it means that we do not need to define division.  We only need to find the number, that when multiplied by $A$ gives 1.  This number is called the multiplicative inverse of $A$ and is written as $1/A$, so long as $A\\neq 0$.\n",
    "\n",
    "We can extend this idea to the situation where $A$, $B$, and $X$ are matrices.  In order to solve the system $AX=B$, we want to multiply by a certain matrix, that when multiplied by $A$ will give the identity matrix $I$.  This matrix is known as the **inverse matrix**, and is given the symbol $A^{-1}$.\n",
    "\n",
    "If $A$ is a square matrix we define $A^{-1}$ (read as \"A inverse\") to be the matrix such that the following are true.\n",
    "\n",
    "$$\n",
    "A^{-1}A = I \\hspace{3cm}AA^{-1} = I\n",
    "$$"
   ]
  },
  {
   "cell_type": "markdown",
   "metadata": {},
   "source": [
    "Notes about inverse matrices:\n",
    "\n",
    "1. The matrix must be square in order for this definition to make sense.  If $A$ is not square, it is impossible for both \n",
    "$A^{-1}A$ and $AA^{-1}$ to be defined.\n",
    "2. Not all matrices have inverses.  Matrices that do have inverses are called **invertible** matrices.  Matrices that do not have inverses are called **non-invertible**, or **singular**, matrices.\n",
    "3. If a matrix is invertible, its inverse is unique.\n",
    "\n",
    "Now *if we know* $A^{-1}$, we can solve the system $AX=B$ by multiplying both sides by $A^{-1}$.\n",
    "\n",
    "$$\n",
    "A^{-1}AX = A^{-1}B\n",
    "$$\n",
    "\n",
    "Then $A^{-1}AX = IX = X$, so the solution to the system is $X=A^{-1}B$.  Unfortunately, it is typically not easy to find $A^{-1}$."
   ]
  },
  {
   "cell_type": "markdown",
   "metadata": {},
   "source": [
    "### Construction of an inverse matrix\n",
    "\n",
    "We take $C$ as an example matrix, and consider how we might build the inverse.\n",
    "\n",
    "$$\n",
    "C = \\left[ \\begin{array}{rrrr} 1 & 0 & 2 & -1 \\\\ 3 & 1 & -3 & 2 \\\\ 2 & 0 & 4 & 4 \\\\ 2 & 1 & -1 & -1 \\end{array}\\right]\n",
    "$$\n",
    "\n",
    "Let's think of the matrix product $CC^{-1}= I$ in terms of the columns of $C^{-1}$.  We put focus on the third column as an example, and label those unknown entries with $y_i$.  The \\* entries are uknown as well, but we will ignore them for the moment.\n",
    "\n",
    "$$\n",
    "CC^{-1}=\n",
    "\\left[ \\begin{array}{rrrr} 1 & 0 & 2 & -1 \\\\ 3 & 1 & -3 & 2 \\\\ 2 & 0 & 4 & 4 \\\\ 2 & 1 & -1 & -1 \\end{array}\\right]\n",
    "\\left[ \\begin{array}{rrrr} * & * & y_1& * \\\\ * & * & y_2 & * \\\\ * & * & y_3 & * \\\\ * & * & y_4 & *  \\end{array}\\right]=\n",
    "\\left[ \\begin{array}{rrrr} 1 & 0 & 0 & 0 \\\\ 0 & 1 & 0 & 0 \\\\ 0 & 0 & 1 & 0 \\\\ 0 & 0 & 0 & 1 \\end{array}\\right]=\n",
    "I\n",
    "$$\n",
    "\n",
    "Recall now that $C$ multiplied by the third column of $C^{-1}$ produces the third column of $I$.  This gives us a linear system to solve for the $y_i$.\n",
    "\n",
    "$$\n",
    "\\left[ \\begin{array}{rrrr} 1 & 0 & 2 & -1 \\\\ 3 & 1 & -3 & 2 \\\\ 2 & 0 & 4 & 4 \\\\ 2 & 1 & -1 & -1 \\end{array}\\right]\n",
    "\\left[ \\begin{array}{r}  y_1 \\\\  y_2  \\\\ y_3 \\\\ y_4  \\end{array}\\right]=\n",
    "\\left[ \\begin{array}{r}  0 \\\\  0  \\\\ 1 \\\\ 0  \\end{array}\\right]\n",
    "$$\n"
   ]
  },
  {
   "cell_type": "code",
   "execution_count": 14,
   "metadata": {},
   "outputs": [],
   "source": [
    "import numpy as np"
   ]
  },
  {
   "cell_type": "code",
   "execution_count": 15,
   "metadata": {},
   "outputs": [],
   "source": [
    "def RowSwap(A, k, l):\n",
    "# =============================================================================\n",
    "#     A is a NumPy array.  RowSwap will return duplicate array with rows\n",
    "#     k and l swapped.\n",
    "# =============================================================================\n",
    "    m = A.shape[0]  # m is number of rows in A\n",
    "    n = A.shape[1]  # n is number of columns in A\n",
    "    \n",
    "    B = np.copy(A).astype('float64')\n",
    "        \n",
    "    for j in range(n):\n",
    "        temp = B[k][j]\n",
    "        B[k][j] = B[l][j]\n",
    "        B[l][j] = temp\n",
    "        \n",
    "    return B\n",
    "\n",
    "def RowScale(A, k, scale):\n",
    "# =============================================================================\n",
    "#     A is a NumPy array.  RowScale will return duplicate array with the\n",
    "#     entries of row k multiplied by scale.\n",
    "# =============================================================================\n",
    "    m = A.shape[0]  # m is number of rows in A\n",
    "    n = A.shape[1]  # n is number of columns in A\n",
    "    \n",
    "    B = np.copy(A).astype('float64')\n",
    "\n",
    "    for j in range(n):\n",
    "        B[k][j] *= scale\n",
    "        \n",
    "    return B\n",
    "\n",
    "def RowAdd(A, k, l, scale):\n",
    "# =============================================================================\n",
    "#     A is a numpy array.  RowAdd will return duplicate array with row\n",
    "#     l modifed.  The new values will be the old values of row l added to \n",
    "#     the values of row k, multiplied by scale.\n",
    "# =============================================================================\n",
    "    m = A.shape[0]  # m is number of rows in A\n",
    "    n = A.shape[1]  # n is number of columns in A\n",
    "    \n",
    "    B = np.copy(A).astype('float64')\n",
    "        \n",
    "    for j in range(n):\n",
    "        B[l][j] += B[k][j]*scale\n",
    "        \n",
    "    return B"
   ]
  },
  {
   "cell_type": "code",
   "execution_count": 21,
   "metadata": {},
   "outputs": [
    {
     "name": "stdout",
     "output_type": "stream",
     "text": [
      "[[ 1  0  2 -1  0]\n",
      " [ 3  1 -3  2  0]\n",
      " [ 2  0  4  4  1]\n",
      " [ 2  1 -1 -1  0]]\n"
     ]
    }
   ],
   "source": [
    "## Solve CY = I3\n",
    "Z = np.array([[1, 0, 2, -1, 0], [3, 1, -3, 2, 0], [2, 0, 4, 4, 1], [2, 1, -1, -1, 0]])\n",
    "print(Z)"
   ]
  },
  {
   "cell_type": "markdown",
   "metadata": {},
   "source": [
    "The other columns of $C^{-1}$ can be found by solving similar systems with the corresponding columns of the identity matrix.  We can then build $C^{-1}$ by assembling the columns into a single matrix, and test the result by checking the products $C^{-1}C$ and $CC^{-1}$."
   ]
  },
  {
   "cell_type": "code",
   "execution_count": 28,
   "metadata": {},
   "outputs": [
    {
     "name": "stdout",
     "output_type": "stream",
     "text": [
      "[[ 1.          0.          2.         -1.          0.        ]\n",
      " [ 0.          1.         -9.          5.          0.        ]\n",
      " [ 0.          0.          1.         -1.          0.        ]\n",
      " [ 0.          0.          0.          1.          0.16666667]]\n"
     ]
    }
   ],
   "source": [
    "Z = np.array([[1, 0, 2, -1, 0], [3, 1, -3, 2, 0], [2, 0, 4, 4, 1], [2, 1, -1, -1, 0]])\n",
    "Z = RowAdd(Z, 0, 1, -Z[1, 0])\n",
    "Z = RowAdd(Z, 0, 2, -Z[2, 0])\n",
    "Z = RowAdd(Z, 0, 3, -Z[3, 0])\n",
    "Z = RowScale(Z, 1, 1/Z[1, 1])\n",
    "Z = RowAdd(Z, 1, 3, -Z[3, 1])\n",
    "Z = RowSwap(Z, 2, 3)\n",
    "Z = RowScale(Z, 2, 1/Z[2, 2])\n",
    "Z = RowScale(Z, 3, 1/Z[3, 3])\n",
    "\n",
    "print(Z)"
   ]
  },
  {
   "cell_type": "markdown",
   "metadata": {},
   "source": [
    "The following can be obtained\n",
    "\n",
    "$$\\begin{align*} \n",
    "y_1 \\qquad + 2y_3 - y_4 &= 0, \\\\\n",
    "y_2 - 9y_3 + 5y_4 &= 0, \\\\\n",
    "y_3 - y_4 &= 0, \\\\\n",
    "y_4 &= 0.16666667.\n",
    "\\end{align*}$$\n",
    "\n",
    "We can use the function `BackSubstitution` to find $y_1, y_2, y_3, y_4$ as follows."
   ]
  },
  {
   "cell_type": "code",
   "execution_count": 120,
   "metadata": {},
   "outputs": [],
   "source": [
    "def BackSubstitution(U,B):\n",
    "# =============================================================================\n",
    "#     U is a NumPy array that represents an upper triangular square mxm matrix.  \n",
    "#     B is a NumPy array that represents an mx1 vector     \n",
    "#     BackSubstitution will return an mx1 vector that is the solution of the\n",
    "#     system UX=B.\n",
    "# =============================================================================\n",
    "    m = U.shape[0]  # m is number of rows and columns in U\n",
    "    X = np.zeros((m,1))\n",
    "    \n",
    "    for i in range(m-1, -1, -1):  # Calculate entries of X backward from m-1 to 0\n",
    "        X[i] = B[i]\n",
    "        for j in range(i+1,m):\n",
    "            X[i] -= U[i][j] * X[j]\n",
    "        if (U[i][i] != 0):\n",
    "            X[i] /= U[i][i]\n",
    "        else:\n",
    "            print(\"Zero entry found in U pivot position\",i,\".\")\n",
    "    return X"
   ]
  },
  {
   "cell_type": "code",
   "execution_count": 121,
   "metadata": {},
   "outputs": [
    {
     "name": "stdout",
     "output_type": "stream",
     "text": [
      "[[ 1.  0.  2. -1.]\n",
      " [ 0.  1. -9.  5.]\n",
      " [ 0.  0.  1. -1.]\n",
      " [ 0.  0.  0.  1.]]\n",
      "--------------------------------------------------\n",
      "[ 1.      -3.       0.25    -0.33333]\n",
      "--------------------------------------------------\n",
      "[[ 0.83333]\n",
      " [-2.08333]\n",
      " [-0.08333]\n",
      " [-0.33333]]\n"
     ]
    }
   ],
   "source": [
    "# n is a number of row of Z, which is 4\n",
    "(n, _) = np.shape(Z)\n",
    "\n",
    "U = Z[:, 0:n]\n",
    "print(U)\n",
    "print('-' * 50)\n",
    "\n",
    "B = Z[:, n]\n",
    "print(B)\n",
    "print('-' * 50)\n",
    "\n",
    "Y = BackSubstitution(U,B)\n",
    "print(Y)"
   ]
  },
  {
   "cell_type": "markdown",
   "metadata": {},
   "source": [
    "We eventually obtain that\n",
    "\n",
    "$$ \n",
    "\\begin{bmatrix}\n",
    "y_1 \\\\\n",
    "y_2 \\\\\n",
    "y_3 \\\\\n",
    "y_4\n",
    "\\end{bmatrix}\n",
    "=\n",
    "\\begin{bmatrix}\n",
    "-0.16666667 \\\\\n",
    "0.66666667 \\\\\n",
    "0.16666667 \\\\\n",
    "0.16666667\n",
    "\\end{bmatrix}\n",
    "$$"
   ]
  },
  {
   "cell_type": "markdown",
   "metadata": {},
   "source": [
    "We will next write a Python function to compute the inverse of a matrix.  In practice finding the inverse of a matrix is a terribly inefficient way of solving a linear system.  We have to solve $n$ systems to just to find the inverse of an $n \\times n$ matrix, so it appears that it takes $n$ times the amount of work that it would to just solve the system by elimination.  Suppose however that we needed to solve a linear system $AX=B$ for *many different vectors* $B$, but the same coefficient matrix $A$.  In that case it might seem appealing to construct $A^{-1}$.\n",
    "\n",
    "In order to keep the computation somewhat efficient, we want to avoid repeating the row operations as much as possible.  In order to construct $A^{-1}$ we need to solve the system $AX_i=Y_i$, where $Y_i$ is the $i$th column of $I$.  This will produce $X$, which is the $i$th column of $A^{-1}$.  Instead of performing elimination on each augmented matrix $[A|Y_i]$, we can augment $A$ with the entire matrix $I$ and perform the required operations on all $Y_i$ at the same time.  For example, if $A$ is a $4\\times 4$ matrix, we will have the following augmented matrix.\n",
    "\n",
    "$$\n",
    "\\begin{equation}\n",
    "[A|I] = \\left[ \\begin{array}{rrrr|rrrr} \n",
    "* & * & * & * & 1 & 0 & 0 & 0 \\\\ \n",
    "* & * & * & * & 0 & 1 & 0 & 0 \\\\\n",
    "* & * & * & * & 0 & 0 & 1 & 0 \\\\\n",
    "* & * & * & * & 0 & 0 & 0 & 1 \\\\ \n",
    "\\end{array}\\right]\n",
    "\\end{equation}\n",
    "$$\n",
    "\n",
    "If $A$ is invertible, the $\\texttt{RowReduction}$ routine from the previous section should return a matrix of the following form. \n",
    "\n",
    "\n",
    "$$\n",
    "\\begin{equation}\n",
    "[A|I] = \\left[ \\begin{array}{rrrr|rrrr} \n",
    "1 & 0 & 0 & 0 & * & * & * & * \\\\ \n",
    "0 & 1 & 0 & 0 & * & * & * & * \\\\\n",
    "0 & 0 & 1 & 0 & * & * & * & * \\\\\n",
    "0 & 0 & 0 & 1 & * & * & * & * \\\\ \n",
    "\\end{array}\\right]\n",
    "\\end{equation}\n",
    "$$\n"
   ]
  },
  {
   "cell_type": "code",
   "execution_count": 75,
   "metadata": {},
   "outputs": [
    {
     "name": "stdout",
     "output_type": "stream",
     "text": [
      "[[ 1  0  2 -1]\n",
      " [ 3  1 -3  2]\n",
      " [ 2  0  4  4]\n",
      " [ 2  1 -1 -1]]\n",
      "--------------------------------------------------\n",
      "[[1. 0. 0. 0.]\n",
      " [0. 1. 0. 0.]\n",
      " [0. 0. 1. 0.]\n",
      " [0. 0. 0. 1.]]\n",
      "--------------------------------------------------\n",
      "[[ 1.  0.  2. -1.  1.  0.  0.  0.]\n",
      " [ 3.  1. -3.  2.  0.  1.  0.  0.]\n",
      " [ 2.  0.  4.  4.  0.  0.  1.  0.]\n",
      " [ 2.  1. -1. -1.  0.  0.  0.  1.]]\n",
      "--------------------------------------------------\n"
     ]
    }
   ],
   "source": [
    "C = np.array([[1, 0, 2, -1], [3, 1, -3, 2], [2, 0, 4, 4], [2, 1, -1, -1]])\n",
    "print(C)\n",
    "print('-' * 50)\n",
    "\n",
    "I4 = np.eye(4)\n",
    "print(I4)\n",
    "print('-' * 50)\n",
    "\n",
    "CI = np.concatenate((C, I4), axis=1)\n",
    "print(CI)\n",
    "print('-' * 50)"
   ]
  },
  {
   "cell_type": "code",
   "execution_count": 94,
   "metadata": {},
   "outputs": [
    {
     "name": "stdout",
     "output_type": "stream",
     "text": [
      "[[ 1.       0.       0.       0.       0.83333  0.5     -0.16667 -0.5    ]\n",
      " [ 0.       1.       0.       0.      -2.08333 -1.25     0.66667  2.25   ]\n",
      " [ 0.       0.       1.       0.      -0.08333 -0.25     0.16667  0.25   ]\n",
      " [ 0.       0.       0.       1.      -0.33333  0.       0.16667  0.     ]]\n"
     ]
    }
   ],
   "source": [
    "CI = np.concatenate((C, I4), axis=1)\n",
    "CI = RowAdd(CI, 0, 1, -CI[1,0])\n",
    "CI = RowAdd(CI, 0, 2, -CI[2,0])\n",
    "CI = RowAdd(CI, 0, 3, -CI[3,0])\n",
    "CI = RowScale(CI, 1, 1/CI[1,1])\n",
    "CI = RowAdd(CI, 1, 3, -CI[3,1])\n",
    "CI = RowSwap(CI, 2, 3)\n",
    "CI = RowScale(CI, 2, 1/CI[2,2])\n",
    "CI = RowAdd(CI, 2, 0, -CI[0,2])\n",
    "CI = RowAdd(CI, 2, 1, -CI[1,2])\n",
    "CI = RowScale(CI, 3, 1/CI[3,3])\n",
    "CI = RowAdd(CI, 3, 0, -CI[0,3])\n",
    "CI = RowAdd(CI, 3, 1, -CI[1,3])\n",
    "CI = RowAdd(CI, 3, 2, -CI[2,3])\n",
    "\n",
    "\n",
    "np.set_printoptions(precision=)\n",
    "print(CI)"
   ]
  },
  {
   "cell_type": "code",
   "execution_count": 119,
   "metadata": {},
   "outputs": [
    {
     "name": "stdout",
     "output_type": "stream",
     "text": [
      "[[ 0.83333  0.5     -0.16667 -0.5    ]\n",
      " [-2.08333 -1.25     0.66667  2.25   ]\n",
      " [-0.08333 -0.25     0.16667  0.25   ]\n",
      " [-0.33333  0.       0.16667  0.     ]]\n"
     ]
    }
   ],
   "source": [
    "(n, _) = np.shape(CI)\n",
    "C_inverse = CI[:, n:]\n",
    "\n",
    "print(C_inverse)"
   ]
  },
  {
   "cell_type": "code",
   "execution_count": 96,
   "metadata": {
    "scrolled": true
   },
   "outputs": [
    {
     "name": "stdout",
     "output_type": "stream",
     "text": [
      "[[ 1.00000e+00  0.00000e+00  0.00000e+00  0.00000e+00]\n",
      " [ 3.33067e-16  1.00000e+00 -5.55112e-17  0.00000e+00]\n",
      " [ 0.00000e+00  0.00000e+00  1.00000e+00  0.00000e+00]\n",
      " [ 1.11022e-16  0.00000e+00  0.00000e+00  1.00000e+00]]\n"
     ]
    }
   ],
   "source": [
    "print(C@C_inverse)"
   ]
  },
  {
   "cell_type": "markdown",
   "metadata": {},
   "source": [
    "If a matrix is non-invertible then the process above fails.  We have to realize that within the $\\texttt{BackSubstitution}$ routine we divide by the entries along the main diagonal of the upper triangular matrix.  Recall that these entries are in the very important pivot positions. If there is a zero in at least one pivot position, then the original matrix is non-invertible.\n",
    "\n",
    "In general we determine if a given matrix is invertible by carrying out the steps of elimination and examining the entries on the main diagonal of the corresponding upper triangular matrix.  The original matrix is invertible if and only if all of those entries are nonzoro."
   ]
  },
  {
   "cell_type": "markdown",
   "metadata": {},
   "source": [
    "### Exercises"
   ]
  },
  {
   "cell_type": "markdown",
   "metadata": {},
   "source": [
    "**Exercise 1:** Solve the following system of equations using an inverse matrix.\n",
    "\n",
    "$$\n",
    "\\begin{eqnarray*}\n",
    "2x_1 + 3x_2 + x_3 & = & 4\\\\\n",
    "3x_1 + 3x_2 + x_3 & = & 8\\\\\n",
    "2x_1 + 4x_2 + x_3 & = & 5 \n",
    "\\end{eqnarray*}\n",
    "$$"
   ]
  },
  {
   "cell_type": "code",
   "execution_count": 106,
   "metadata": {},
   "outputs": [],
   "source": [
    "## Code solution here\n",
    "\n",
    "\n",
    "\n",
    "\n"
   ]
  },
  {
   "cell_type": "markdown",
   "metadata": {},
   "source": [
    "**Exercise 2:** Let $A$ be a random $4\\times 4$ matrix.  Find $A^{-1}$."
   ]
  },
  {
   "cell_type": "code",
   "execution_count": 115,
   "metadata": {},
   "outputs": [
    {
     "name": "stdout",
     "output_type": "stream",
     "text": [
      "A = \n",
      " [[-1 -8 -4 -6]\n",
      " [ 7 -7  5  7]\n",
      " [ 0 -5  3 -6]\n",
      " [-1  1 -7  0]]\n",
      "--------------------------------------------------\n"
     ]
    }
   ],
   "source": [
    "run = True\n",
    "while run:\n",
    "    A = np.random.randint(-8, 8, size=(4,4))\n",
    "    da = np.linalg.det(A)\n",
    "    if da != 0:\n",
    "        run = False\n",
    "print('A = \\n', A)\n",
    "print('-' * 50)\n",
    "\n",
    "## Code solution here\n",
    "\n",
    "\n",
    "\n"
   ]
  },
  {
   "cell_type": "markdown",
   "metadata": {},
   "source": [
    "**Exercise 3:**  Solve the system $AX=B$ by finding $A^{-1}$ and computing $X=A^{-1}B$.\n",
    "\n",
    "$$\n",
    "A = \\left[ \\begin{array}{rrrr} 1 & 2 & -3 \\\\ -1 & 1 & -1  \\\\ 0 & -2 & 3  \\end{array}\\right] \\quad\\quad\n",
    "B = \\left[ \\begin{array}{rrrr} 1  \\\\ 1 \\\\ 1  \\end{array}\\right]\n",
    "$$    "
   ]
  },
  {
   "cell_type": "code",
   "execution_count": 116,
   "metadata": {},
   "outputs": [],
   "source": [
    "## Code solution here\n",
    "\n",
    "\n"
   ]
  },
  {
   "cell_type": "markdown",
   "metadata": {},
   "source": [
    "**Exercise 4:** Find a $3 \\times 3 $ matrix $Y$ such that $AY = C$.\n",
    "\n",
    "$$\n",
    "A = \\left[ \\begin{array}{rrrr} 3 & 1 & 0 \\\\ 5 & 2 & 1 \\\\ 0 & 2 & 3\\end{array}\\right]\\hspace{2cm}\n",
    "C = \\left[ \\begin{array}{rrrr} 1 & 2 & 1 \\\\ 3 & 4 & 0 \\\\ 1 & 0 & 2 \\end{array}\\right]\\hspace{2cm}\n",
    "$$"
   ]
  },
  {
   "cell_type": "code",
   "execution_count": 117,
   "metadata": {},
   "outputs": [],
   "source": [
    "## Code solution here\n",
    "\n",
    "\n",
    "\n"
   ]
  },
  {
   "cell_type": "markdown",
   "metadata": {},
   "source": [
    "**Exercise 5:** Consider the following $ 4 \\times 4 $ matrix:\n",
    "\n",
    "$$\n",
    "A = \\left[ \\begin{array}{rrrr} 4 & x_1 & 0 & 0 \\\\ 0 & x_2 & 0 & 0 \\\\ 0 & x_3 & 1 & 0 \\\\ 0 & x_4 & 0 & 3 \\end{array}\\right]\n",
    "$$\n",
    "\n",
    "  $(a)$ Find the condition on $x_1$, $x_2$, $x_3$ or $x_4$ for which $A^{-1}$ exists. Assuming that condition is true, find the inverse of $A$.\n",
    "\n",
    "  $(b)$ Use Python to check if $ A^{-1}A = I $ when $x_1 = 4$, $x_2 = 1$, $x_3 = 1$, and $x_4 = 3$."
   ]
  },
  {
   "cell_type": "code",
   "execution_count": 118,
   "metadata": {},
   "outputs": [],
   "source": [
    "## Code solution here\n",
    "\n",
    "\n",
    "\n"
   ]
  }
 ],
 "metadata": {
  "kernelspec": {
   "display_name": "Python 3 (ipykernel)",
   "language": "python",
   "name": "python3"
  },
  "language_info": {
   "codemirror_mode": {
    "name": "ipython",
    "version": 3
   },
   "file_extension": ".py",
   "mimetype": "text/x-python",
   "name": "python",
   "nbconvert_exporter": "python",
   "pygments_lexer": "ipython3",
   "version": "3.9.9"
  }
 },
 "nbformat": 4,
 "nbformat_minor": 4
}
